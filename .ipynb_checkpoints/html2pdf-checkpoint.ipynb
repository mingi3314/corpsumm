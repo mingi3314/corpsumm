{
 "cells": [
  {
   "cell_type": "code",
   "execution_count": 1,
   "id": "7e07b78a-ac2d-4eb5-ab71-ddfeface6ebb",
   "metadata": {},
   "outputs": [],
   "source": [
    "import pandas as pd"
   ]
  },
  {
   "cell_type": "markdown",
   "id": "36fbd82d-f5c5-450e-9bea-a26d23a5aedb",
   "metadata": {},
   "source": [
    "#### Todo\n",
    "- 최상단에 `<meta charset=\"utf-8\">\\n` 코드 삽입 필요"
   ]
  },
  {
   "cell_type": "code",
   "execution_count": 2,
   "id": "1322d3de-9548-4f2d-95e5-9aaad9cda589",
   "metadata": {},
   "outputs": [
    {
     "data": {
      "text/html": [
       "<div>\n",
       "<style scoped>\n",
       "    .dataframe tbody tr th:only-of-type {\n",
       "        vertical-align: middle;\n",
       "    }\n",
       "\n",
       "    .dataframe tbody tr th {\n",
       "        vertical-align: top;\n",
       "    }\n",
       "\n",
       "    .dataframe thead th {\n",
       "        text-align: right;\n",
       "    }\n",
       "</style>\n",
       "<table border=\"1\" class=\"dataframe\">\n",
       "  <thead>\n",
       "    <tr style=\"text-align: right;\">\n",
       "      <th></th>\n",
       "      <th>회사명</th>\n",
       "      <th>종목코드</th>\n",
       "      <th>html</th>\n",
       "    </tr>\n",
       "  </thead>\n",
       "  <tbody>\n",
       "    <tr>\n",
       "      <th>0</th>\n",
       "      <td>DRB동일</td>\n",
       "      <td>4840</td>\n",
       "      <td>&lt;article class=\"scrarea type-01\" style=\"height...</td>\n",
       "    </tr>\n",
       "    <tr>\n",
       "      <th>1</th>\n",
       "      <td>DSR</td>\n",
       "      <td>155660</td>\n",
       "      <td>NaN</td>\n",
       "    </tr>\n",
       "    <tr>\n",
       "      <th>2</th>\n",
       "      <td>GS</td>\n",
       "      <td>78930</td>\n",
       "      <td>&lt;article class=\"scrarea type-01\" style=\"height...</td>\n",
       "    </tr>\n",
       "    <tr>\n",
       "      <th>3</th>\n",
       "      <td>GS글로벌</td>\n",
       "      <td>1250</td>\n",
       "      <td>&lt;article class=\"scrarea type-01\" style=\"height...</td>\n",
       "    </tr>\n",
       "    <tr>\n",
       "      <th>4</th>\n",
       "      <td>HDC현대산업개발</td>\n",
       "      <td>294870</td>\n",
       "      <td>&lt;article class=\"scrarea type-01\" style=\"height...</td>\n",
       "    </tr>\n",
       "    <tr>\n",
       "      <th>...</th>\n",
       "      <td>...</td>\n",
       "      <td>...</td>\n",
       "      <td>...</td>\n",
       "    </tr>\n",
       "    <tr>\n",
       "      <th>2477</th>\n",
       "      <td>토마토시스템</td>\n",
       "      <td>393210</td>\n",
       "      <td>NaN</td>\n",
       "    </tr>\n",
       "    <tr>\n",
       "      <th>2478</th>\n",
       "      <td>틸론</td>\n",
       "      <td>217880</td>\n",
       "      <td>&lt;article class=\"scrarea type-01\" style=\"height...</td>\n",
       "    </tr>\n",
       "    <tr>\n",
       "      <th>2479</th>\n",
       "      <td>플럼라인생명과학</td>\n",
       "      <td>222670</td>\n",
       "      <td>&lt;article class=\"scrarea type-01\" style=\"height...</td>\n",
       "    </tr>\n",
       "    <tr>\n",
       "      <th>2480</th>\n",
       "      <td>한국미라클피플사</td>\n",
       "      <td>331660</td>\n",
       "      <td>&lt;article class=\"scrarea type-01\" style=\"height...</td>\n",
       "    </tr>\n",
       "    <tr>\n",
       "      <th>2481</th>\n",
       "      <td>휴벡셀</td>\n",
       "      <td>212310</td>\n",
       "      <td>&lt;article class=\"scrarea type-01\" style=\"height...</td>\n",
       "    </tr>\n",
       "  </tbody>\n",
       "</table>\n",
       "<p>2482 rows × 3 columns</p>\n",
       "</div>"
      ],
      "text/plain": [
       "            회사명    종목코드                                               html\n",
       "0         DRB동일    4840  <article class=\"scrarea type-01\" style=\"height...\n",
       "1           DSR  155660                                                NaN\n",
       "2            GS   78930  <article class=\"scrarea type-01\" style=\"height...\n",
       "3         GS글로벌    1250  <article class=\"scrarea type-01\" style=\"height...\n",
       "4     HDC현대산업개발  294870  <article class=\"scrarea type-01\" style=\"height...\n",
       "...         ...     ...                                                ...\n",
       "2477     토마토시스템  393210                                                NaN\n",
       "2478         틸론  217880  <article class=\"scrarea type-01\" style=\"height...\n",
       "2479   플럼라인생명과학  222670  <article class=\"scrarea type-01\" style=\"height...\n",
       "2480   한국미라클피플사  331660  <article class=\"scrarea type-01\" style=\"height...\n",
       "2481        휴벡셀  212310  <article class=\"scrarea type-01\" style=\"height...\n",
       "\n",
       "[2482 rows x 3 columns]"
      ]
     },
     "execution_count": 2,
     "metadata": {},
     "output_type": "execute_result"
    }
   ],
   "source": [
    "df_summ = pd.read_excel(\"stock_summaries.xlsx\")\n",
    "df_summ"
   ]
  },
  {
   "cell_type": "code",
   "execution_count": null,
   "id": "cd5ddc30-9f38-4955-86b2-3edeb0e204fa",
   "metadata": {},
   "outputs": [],
   "source": [
    "df_summ.itertuples()"
   ]
  },
  {
   "cell_type": "code",
   "execution_count": 3,
   "id": "e48d8874-1c0c-4027-8c1f-45eaf93890fb",
   "metadata": {},
   "outputs": [
    {
     "data": {
      "text/plain": [
       "'<article class=\"scrarea type-01\" style=\"height:200px;\">\\n<p>연결실체는 크게 자동차 고무 부품(창고무), 토목건축자재, 면진제진시스템 등을 제공하는 종합고무부품과 동력 전달에 널리 쓰이는 전동벨트 및 운반라인의 효율성을 극대화 시킬 수 있는 컨베어벨트를 생산하는 산업용고무제품부문으로 구성되어 있습니다. </p>  <table width=\"594\" border=\"1\">  <colgroup>  <col width=\"297\">  <col width=\"297\"></colgroup>  <thead>  <tr>  <th height=\"20\" width=\"297\" align=\"center\">구 분&nbsp;</th>  <th height=\"20\" width=\"297\" align=\"center\">재화(또는 용역)&nbsp;</th></tr></thead>  <tbody>  <tr>  <td height=\"20\" width=\"297\">종합고무부품 부문&nbsp;</td>  <td height=\"20\" valign=\"top\" width=\"297\">자동차용고무부품, 토목, 건축자재 등&nbsp;</td></tr>  <tr>  <td height=\"20\" width=\"297\">산업용고무제품 부문</td>  <td height=\"20\" valign=\"top\" width=\"297\">V벨트, 컨베어벨트 등&nbsp;</td></tr>  <tr>  <td height=\"20\" width=\"297\">기타 부문</td>  <td height=\"20\" valign=\"top\" width=\"297\">지능형 로봇 등</td></tr></tbody></table>  <p><br>(1) 종합고무부품 부문<br>비히클실링은 자동차를 구성하는 실링재로 신소재 연구개발, 최적화된 설계기술 제공, 실제품과 동일한 컴퓨터 시뮬레이션, 글로벌 인증 품질관리 시스템, 그리고 신속한 사후 서비스로 고객 만족을 극대화합니다. 차종별 맞춤 제작으로 소음과 진동을 최소화 한 높은 감성 품질을 제공합니다. <br><br>토목건축자재는 해양, 철도, 도로 및 교랑, 하수 등 토목과 건축분야에서 발생하는 문제점을 방음, 수밀, 차폐, 안전, 완충, 차단 등의 솔루션을 제공하여 해결합니다. 당사는 축적된 고무응용 기술을 통해 더 많은 사람들이 안전하고 쾌적한 삶을 영위할 수 있도록 토목건축 관련 제품의 개발에서부터 시공, 사후 관리까지 전 과정을 책임집니다.<br><br>(2) 산업용고무제품 부문<br>전 세계의 자동차와 산업용 기계를 가동하기 위하여 동력을 전달하는데, 필수적으로 사용되는 전동벨트 및 이를 포함하는 전동 시스템은 고객들에게 품질과 신뢰의 대명사로 인정받아 왔습니다. 당사는 동력 전달이 필요한 산업 현장, 자동차, 농기계, 가전제품 등에 널리 쓰이는 전동벨트를 비롯하여 관련 기술과 서비스를 함께 제공합니다. 최고 수준의 효율성과 안정성을 확보한 고기능 제품을 공급하기 위한 연구활동은 계속되고 있습니다. <br><br>컨베어벨트는 운반라인의 경제성과 효율성을 진단해 최적의 솔루션을 제안하고 설계부터 시공, 설치, 사후관리의 전 과정을 통합 관리하는 시스템 엔지니어링 서비스를 제공합니다. 자재 운반 및 물류 흐름의 공정개선과 운송환경 합리화를 통해 고객의 비즈니스 연속성과 경쟁력 강화에 기여합니다.<br><br>크롤러는 어떠한 지반 조건에서도 최고의 주행 안정성을 갖는 무한궤도 고무트랙으로 굴삭기, 컴바인, 운반기 등 건설 및 농업용 기계에 널리 사용됩니다. 또한 스틸타입 무한궤도에 간편하게 장착할 수 있는 슈패드는 크롤러의 장점을 살린 제품으로 기능성과 경제성을 모두 만족시킵니다.<br><br>(3) 기타 부문<br><br>지능형로봇산업의 경우 IT, 전자, 기계, 정보, 공학 등 다양한 분야별 기술이 복합적으로 요구되는 융합산업으로 분야별 핵심기반기술들이 융복합되는 산업적 특성이 있습니다.<br><span style=\"FONT-WEIGHT: bold\"></span><br></p>  <p><br></p>  <p><br></p>\\n</article>'"
      ]
     },
     "execution_count": 3,
     "metadata": {},
     "output_type": "execute_result"
    }
   ],
   "source": [
    "df_summ.iloc[0, 2]"
   ]
  }
 ],
 "metadata": {
  "kernelspec": {
   "display_name": "study",
   "language": "python",
   "name": "study"
  },
  "language_info": {
   "codemirror_mode": {
    "name": "ipython",
    "version": 3
   },
   "file_extension": ".py",
   "mimetype": "text/x-python",
   "name": "python",
   "nbconvert_exporter": "python",
   "pygments_lexer": "ipython3",
   "version": "3.9.7"
  }
 },
 "nbformat": 4,
 "nbformat_minor": 5
}
