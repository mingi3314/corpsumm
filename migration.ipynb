{
 "cells": [
  {
   "cell_type": "code",
   "execution_count": 2,
   "metadata": {},
   "outputs": [],
   "source": [
    "import os\n",
    "import shutil\n",
    "import glob\n",
    "from pathlib import Path\n"
   ]
  },
  {
   "cell_type": "code",
   "execution_count": 18,
   "metadata": {},
   "outputs": [
    {
     "data": {
      "text/plain": [
       "4600825962"
      ]
     },
     "execution_count": 18,
     "metadata": {},
     "output_type": "execute_result"
    }
   ],
   "source": [
    "\n",
    "# sum(f.stat().st_size for f in root_directory.glob('**/*') if f.is_file())"
   ]
  },
  {
   "cell_type": "code",
   "execution_count": 3,
   "metadata": {},
   "outputs": [],
   "source": [
    "def byte2gib(byte):\n",
    "    # 바이트를 기비바이트로 변환\n",
    "    return byte / (1024 * 1024 * 1024)\n",
    "\n",
    "def gib2byte(gib):\n",
    "    # 기비바이트를 바이트로 변환\n",
    "    return gib * (1024 * 1024 * 1024)\n",
    "\n",
    "def get_directory_size(dir):\n",
    "    # 폴더 사이즈 구하기\n",
    "    return dir.stat().st_size"
   ]
  },
  {
   "cell_type": "code",
   "execution_count": 4,
   "metadata": {},
   "outputs": [],
   "source": [
    "MAX_GIB_PER_FOLDER = 0.5\n",
    "MAX_BYTE_PER_FOLDER = gib2byte(MAX_GIB_PER_FOLDER)\n",
    "\n",
    "cumulative_bytes = 0\n",
    "stock_folders = []\n",
    "stocks_in_folder = []\n",
    "\n",
    "root_directory = Path('./results')\n",
    "\n",
    "for stock_dir in root_directory.glob('**/*'):\n",
    "    \n",
    "    dir_size = get_directory_size(stock_dir)\n",
    "    cumulative_bytes += dir_size\n",
    "\n",
    "    if cumulative_bytes < MAX_BYTE_PER_FOLDER:\n",
    "        stocks_in_folder.append(stock_dir.name)\n",
    "        \n",
    "    else:\n",
    "        stock_folders.append(stocks_in_folder)\n",
    "        stocks_in_folder = []\n",
    "        cumulative_bytes = 0"
   ]
  },
  {
   "cell_type": "code",
   "execution_count": 38,
   "metadata": {},
   "outputs": [
    {
     "ename": "PermissionError",
     "evalue": "[WinError 32] 다른 프로세스가 파일을 사용 중이기 때문에 프로세스가 액세스 할 수 없습니다: 'results/088290\\\\기업분석보고서.pdf'",
     "output_type": "error",
     "traceback": [
      "\u001b[1;31m---------------------------------------------------------------------------\u001b[0m",
      "\u001b[1;31mPermissionError\u001b[0m                           Traceback (most recent call last)",
      "File \u001b[1;32m~\\Anaconda3\\envs\\notion\\lib\\shutil.py:805\u001b[0m, in \u001b[0;36mmove\u001b[1;34m(src, dst, copy_function)\u001b[0m\n\u001b[0;32m    <a href='file:///~/Anaconda3/envs/notion/lib/shutil.py?line=803'>804</a>\u001b[0m \u001b[39mtry\u001b[39;00m:\n\u001b[1;32m--> <a href='file:///~/Anaconda3/envs/notion/lib/shutil.py?line=804'>805</a>\u001b[0m     os\u001b[39m.\u001b[39;49mrename(src, real_dst)\n\u001b[0;32m    <a href='file:///~/Anaconda3/envs/notion/lib/shutil.py?line=805'>806</a>\u001b[0m \u001b[39mexcept\u001b[39;00m \u001b[39mOSError\u001b[39;00m:\n",
      "\u001b[1;31mPermissionError\u001b[0m: [WinError 5] 액세스가 거부되었습니다: 'results/088290' -> 'repos/coprsumm0\\\\088290'",
      "\nDuring handling of the above exception, another exception occurred:\n",
      "\u001b[1;31mPermissionError\u001b[0m                           Traceback (most recent call last)",
      "\u001b[1;32mc:\\Users\\MK\\workspace\\corpsumm\\migration.ipynb Cell 6'\u001b[0m in \u001b[0;36m<module>\u001b[1;34m\u001b[0m\n\u001b[0;32m      <a href='vscode-notebook-cell:/c%3A/Users/MK/workspace/corpsumm/migration.ipynb#ch0000021?line=2'>3</a>\u001b[0m os\u001b[39m.\u001b[39mmkdir(dst)\n\u001b[0;32m      <a href='vscode-notebook-cell:/c%3A/Users/MK/workspace/corpsumm/migration.ipynb#ch0000021?line=4'>5</a>\u001b[0m \u001b[39mfor\u001b[39;00m stock \u001b[39min\u001b[39;00m stock_folder:\n\u001b[1;32m----> <a href='vscode-notebook-cell:/c%3A/Users/MK/workspace/corpsumm/migration.ipynb#ch0000021?line=5'>6</a>\u001b[0m     shutil\u001b[39m.\u001b[39;49mmove(\u001b[39mf\u001b[39;49m\u001b[39m\"\u001b[39;49m\u001b[39mresults/\u001b[39;49m\u001b[39m{\u001b[39;49;00mstock\u001b[39m}\u001b[39;49;00m\u001b[39m\"\u001b[39;49m, dst)\n",
      "File \u001b[1;32m~\\Anaconda3\\envs\\notion\\lib\\shutil.py:823\u001b[0m, in \u001b[0;36mmove\u001b[1;34m(src, dst, copy_function)\u001b[0m\n\u001b[0;32m    <a href='file:///~/Anaconda3/envs/notion/lib/shutil.py?line=817'>818</a>\u001b[0m         \u001b[39mraise\u001b[39;00m \u001b[39mPermissionError\u001b[39;00m(\u001b[39m\"\u001b[39m\u001b[39mCannot move the non-empty directory \u001b[39m\u001b[39m\"\u001b[39m\n\u001b[0;32m    <a href='file:///~/Anaconda3/envs/notion/lib/shutil.py?line=818'>819</a>\u001b[0m                               \u001b[39m\"\u001b[39m\u001b[39m'\u001b[39m\u001b[39m%s\u001b[39;00m\u001b[39m'\u001b[39m\u001b[39m: Lacking write permission to \u001b[39m\u001b[39m'\u001b[39m\u001b[39m%s\u001b[39;00m\u001b[39m'\u001b[39m\u001b[39m.\u001b[39m\u001b[39m\"\u001b[39m\n\u001b[0;32m    <a href='file:///~/Anaconda3/envs/notion/lib/shutil.py?line=819'>820</a>\u001b[0m                               \u001b[39m%\u001b[39m (src, src))\n\u001b[0;32m    <a href='file:///~/Anaconda3/envs/notion/lib/shutil.py?line=820'>821</a>\u001b[0m     copytree(src, real_dst, copy_function\u001b[39m=\u001b[39mcopy_function,\n\u001b[0;32m    <a href='file:///~/Anaconda3/envs/notion/lib/shutil.py?line=821'>822</a>\u001b[0m              symlinks\u001b[39m=\u001b[39m\u001b[39mTrue\u001b[39;00m)\n\u001b[1;32m--> <a href='file:///~/Anaconda3/envs/notion/lib/shutil.py?line=822'>823</a>\u001b[0m     rmtree(src)\n\u001b[0;32m    <a href='file:///~/Anaconda3/envs/notion/lib/shutil.py?line=823'>824</a>\u001b[0m \u001b[39melse\u001b[39;00m:\n\u001b[0;32m    <a href='file:///~/Anaconda3/envs/notion/lib/shutil.py?line=824'>825</a>\u001b[0m     copy_function(src, real_dst)\n",
      "File \u001b[1;32m~\\Anaconda3\\envs\\notion\\lib\\shutil.py:739\u001b[0m, in \u001b[0;36mrmtree\u001b[1;34m(path, ignore_errors, onerror)\u001b[0m\n\u001b[0;32m    <a href='file:///~/Anaconda3/envs/notion/lib/shutil.py?line=736'>737</a>\u001b[0m     \u001b[39m# can't continue even if onerror hook returns\u001b[39;00m\n\u001b[0;32m    <a href='file:///~/Anaconda3/envs/notion/lib/shutil.py?line=737'>738</a>\u001b[0m     \u001b[39mreturn\u001b[39;00m\n\u001b[1;32m--> <a href='file:///~/Anaconda3/envs/notion/lib/shutil.py?line=738'>739</a>\u001b[0m \u001b[39mreturn\u001b[39;00m _rmtree_unsafe(path, onerror)\n",
      "File \u001b[1;32m~\\Anaconda3\\envs\\notion\\lib\\shutil.py:617\u001b[0m, in \u001b[0;36m_rmtree_unsafe\u001b[1;34m(path, onerror)\u001b[0m\n\u001b[0;32m    <a href='file:///~/Anaconda3/envs/notion/lib/shutil.py?line=614'>615</a>\u001b[0m             os\u001b[39m.\u001b[39munlink(fullname)\n\u001b[0;32m    <a href='file:///~/Anaconda3/envs/notion/lib/shutil.py?line=615'>616</a>\u001b[0m         \u001b[39mexcept\u001b[39;00m \u001b[39mOSError\u001b[39;00m:\n\u001b[1;32m--> <a href='file:///~/Anaconda3/envs/notion/lib/shutil.py?line=616'>617</a>\u001b[0m             onerror(os\u001b[39m.\u001b[39;49munlink, fullname, sys\u001b[39m.\u001b[39;49mexc_info())\n\u001b[0;32m    <a href='file:///~/Anaconda3/envs/notion/lib/shutil.py?line=617'>618</a>\u001b[0m \u001b[39mtry\u001b[39;00m:\n\u001b[0;32m    <a href='file:///~/Anaconda3/envs/notion/lib/shutil.py?line=618'>619</a>\u001b[0m     os\u001b[39m.\u001b[39mrmdir(path)\n",
      "File \u001b[1;32m~\\Anaconda3\\envs\\notion\\lib\\shutil.py:615\u001b[0m, in \u001b[0;36m_rmtree_unsafe\u001b[1;34m(path, onerror)\u001b[0m\n\u001b[0;32m    <a href='file:///~/Anaconda3/envs/notion/lib/shutil.py?line=612'>613</a>\u001b[0m \u001b[39melse\u001b[39;00m:\n\u001b[0;32m    <a href='file:///~/Anaconda3/envs/notion/lib/shutil.py?line=613'>614</a>\u001b[0m     \u001b[39mtry\u001b[39;00m:\n\u001b[1;32m--> <a href='file:///~/Anaconda3/envs/notion/lib/shutil.py?line=614'>615</a>\u001b[0m         os\u001b[39m.\u001b[39;49munlink(fullname)\n\u001b[0;32m    <a href='file:///~/Anaconda3/envs/notion/lib/shutil.py?line=615'>616</a>\u001b[0m     \u001b[39mexcept\u001b[39;00m \u001b[39mOSError\u001b[39;00m:\n\u001b[0;32m    <a href='file:///~/Anaconda3/envs/notion/lib/shutil.py?line=616'>617</a>\u001b[0m         onerror(os\u001b[39m.\u001b[39munlink, fullname, sys\u001b[39m.\u001b[39mexc_info())\n",
      "\u001b[1;31mPermissionError\u001b[0m: [WinError 32] 다른 프로세스가 파일을 사용 중이기 때문에 프로세스가 액세스 할 수 없습니다: 'results/088290\\\\기업분석보고서.pdf'"
     ]
    }
   ],
   "source": [
    "for idx, stock_folder in enumerate(stock_folders):\n",
    "    dst = f\"repos/coprsumm{idx}\"\n",
    "    os.mkdir(dst)\n",
    "\n",
    "    for stock in stock_folder:\n",
    "        try:\n",
    "            shutil.move(f\"results/{stock}\", dst)\n",
    "        except Exception as e:\n",
    "            print(f\"error occured - {stock}\")\n",
    "            print(e)"
   ]
  }
 ],
 "metadata": {
  "interpreter": {
   "hash": "34bcf6b4597e0acb42c2f97b68c3ad0fd56120a2aa8082868ccfd5417b2fe933"
  },
  "kernelspec": {
   "display_name": "Python 3.9.10 64-bit ('corpsumm')",
   "language": "python",
   "name": "python3"
  },
  "language_info": {
   "codemirror_mode": {
    "name": "ipython",
    "version": 3
   },
   "file_extension": ".py",
   "mimetype": "text/x-python",
   "name": "python",
   "nbconvert_exporter": "python",
   "pygments_lexer": "ipython3",
   "version": "3.10.2"
  },
  "orig_nbformat": 4
 },
 "nbformat": 4,
 "nbformat_minor": 2
}
