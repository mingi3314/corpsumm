{
 "cells": [
  {
   "cell_type": "code",
   "execution_count": 1,
   "metadata": {},
   "outputs": [],
   "source": [
    "import requests\n",
    "from bs4 import BeautifulSoup\n",
    "import time\n",
    "import random\n",
    "import urllib3\n",
    "from tqdm import tqdm\n",
    "\n",
    "urllib3.disable_warnings()"
   ]
  },
  {
   "cell_type": "code",
   "execution_count": 3,
   "metadata": {},
   "outputs": [],
   "source": [
    "def download(url, file_name):\n",
    "    with open(file_name, \"wb\") as f:\n",
    "        response = requests.get(url, verify=False)\n",
    "        f.write(response.content)\n"
   ]
  },
  {
   "cell_type": "code",
   "execution_count": 5,
   "metadata": {},
   "outputs": [
    {
     "name": "stderr",
     "output_type": "stream",
     "text": [
      " 45%|████▌     | 96/212 [38:29<45:34, 23.57s/it]  "
     ]
    },
    {
     "name": "stdout",
     "output_type": "stream",
     "text": [
      "error occured at page - 97, KG ETS(151860)\n",
      "[Errno 13] Permission denied: './report_pdf/KG ETS(151860).pdf'\n"
     ]
    },
    {
     "name": "stderr",
     "output_type": "stream",
     "text": [
      " 63%|██████▎   | 134/212 [53:30<30:04, 23.13s/it]"
     ]
    },
    {
     "name": "stdout",
     "output_type": "stream",
     "text": [
      "error occured at page - 135, KG ETS(151860)\n",
      "[Errno 13] Permission denied: './report_pdf/KG ETS(151860).pdf'\n"
     ]
    },
    {
     "name": "stderr",
     "output_type": "stream",
     "text": [
      "100%|█████████▉| 211/212 [1:28:40<00:28, 28.85s/it]"
     ]
    },
    {
     "name": "stdout",
     "output_type": "stream",
     "text": [
      "error occured at page - 212, 모다이노칩(080420)\n",
      "'NoneType' object has no attribute 'attrs'\n",
      "error occured at page - 212, 모다이노칩(080420)\n",
      "'NoneType' object has no attribute 'attrs'\n",
      "error occured at page - 212, 모다이노칩(080420)\n",
      "'NoneType' object has no attribute 'attrs'\n",
      "error occured at page - 212, 모다이노칩(080420)\n",
      "'NoneType' object has no attribute 'attrs'\n",
      "error occured at page - 212, 모다이노칩(080420)\n",
      "'NoneType' object has no attribute 'attrs'\n"
     ]
    },
    {
     "name": "stderr",
     "output_type": "stream",
     "text": [
      "100%|██████████| 212/212 [1:29:05<00:00, 25.22s/it]\n"
     ]
    }
   ],
   "source": [
    "MAX_PAGE_NUM = 212\n",
    "MAX_CONTENTS_PER_PAGE = 10\n",
    "\n",
    "for page in tqdm(range(1, MAX_PAGE_NUM + 1)):\n",
    "\n",
    "    url = f\"https://kirs.or.kr/information/tech2020_1.html?dbname=tec&page={page}&keyword=&start_date=&end_date=&chk_status=&tr_type=\"\n",
    "    html = requests.get(url, verify=False).text\n",
    "    soup = BeautifulSoup(html, \"html.parser\")\n",
    "\n",
    "    for i in range(1, MAX_CONTENTS_PER_PAGE + 1):\n",
    "\n",
    "        try:\n",
    "            pdf_url = soup.select_one(\n",
    "                f\"#tech_1 > tbody > tr:nth-child({i}) > td:nth-child(5) > a\"\n",
    "            ).attrs[\"href\"]\n",
    "            fname = soup.select_one(\n",
    "                f\"#tech_1 > tbody > tr:nth-child({i}) > td.txt-left.growup.txtl\"\n",
    "            ).text\n",
    "\n",
    "            result_dir = f\"./report_pdf/{fname}.pdf\"\n",
    "            download(pdf_url, result_dir)\n",
    "\n",
    "        except Exception as e:\n",
    "            print(f\"error occured at page - {page}, {fname}\")\n",
    "            print(e)\n",
    "\n",
    "        time.sleep(random.uniform(1, 3))\n"
   ]
  },
  {
   "cell_type": "code",
   "execution_count": 2,
   "metadata": {},
   "outputs": [
    {
     "name": "stderr",
     "output_type": "stream",
     "text": [
      "100%|██████████| 212/212 [08:15<00:00,  2.34s/it]\n"
     ]
    }
   ],
   "source": [
    "def write_url_txt(url, file_name):\n",
    "    with open(file_name, \"w\") as f:\n",
    "        f.write(url)\n",
    "\n",
    "MAX_PAGE_NUM = 212\n",
    "MAX_CONTENTS_PER_PAGE = 10\n",
    "\n",
    "for page in tqdm(range(1, MAX_PAGE_NUM + 1)):\n",
    "\n",
    "    url = f\"https://kirs.or.kr/information/tech2020_1.html?dbname=tec&page={page}&keyword=&start_date=&end_date=&chk_status=&tr_type=\"\n",
    "    html = requests.get(url, verify=False).text\n",
    "    soup = BeautifulSoup(html, \"html.parser\")\n",
    "\n",
    "    for i in range(1, MAX_CONTENTS_PER_PAGE + 1):\n",
    "\n",
    "        try:\n",
    "            report_url = soup.select_one(\n",
    "                f\"#tech_1 > tbody > tr:nth-child({i}) > td:nth-child(5) > a\"\n",
    "            ).attrs[\"href\"]\n",
    "            fname = soup.select_one(\n",
    "                f\"#tech_1 > tbody > tr:nth-child({i}) > td.txt-left.growup.txtl\"\n",
    "            ).text\n",
    "\n",
    "            result_dir = f\"./report_url/{fname}.txt\"\n",
    "            write_url_txt(report_url, result_dir)\n",
    "\n",
    "        except Exception as e:\n",
    "            print(f\"error occured at page - {page}, {fname}\")\n",
    "            print(e)\n",
    "\n",
    "    time.sleep(random.uniform(1, 3))\n"
   ]
  }
 ],
 "metadata": {
  "interpreter": {
   "hash": "1c55b556ac51485e732a890ad90cd6645ce1cc39d925e658e03cc3acbd484518"
  },
  "kernelspec": {
   "display_name": "Python 3.10.2 ('notion')",
   "language": "python",
   "name": "python3"
  },
  "language_info": {
   "codemirror_mode": {
    "name": "ipython",
    "version": 3
   },
   "file_extension": ".py",
   "mimetype": "text/x-python",
   "name": "python",
   "nbconvert_exporter": "python",
   "pygments_lexer": "ipython3",
   "version": "3.10.2"
  },
  "orig_nbformat": 4
 },
 "nbformat": 4,
 "nbformat_minor": 2
}
