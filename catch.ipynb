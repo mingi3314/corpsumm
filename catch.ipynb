{
 "cells": [
  {
   "cell_type": "code",
   "execution_count": 11,
   "metadata": {},
   "outputs": [],
   "source": [
    "from selenium import webdriver\n",
    "import secrets\n",
    "import bs4"
   ]
  },
  {
   "cell_type": "code",
   "execution_count": 5,
   "metadata": {},
   "outputs": [
    {
     "name": "stderr",
     "output_type": "stream",
     "text": [
      "C:\\Users\\MK\\AppData\\Local\\Temp\\ipykernel_30644\\530843676.py:1: DeprecationWarning: executable_path has been deprecated, please pass in a Service object\n",
      "  driver = webdriver.Chrome('chromedriver.exe')\n"
     ]
    }
   ],
   "source": [
    "driver = webdriver.Chrome('chromedriver.exe')"
   ]
  },
  {
   "cell_type": "code",
   "execution_count": 6,
   "metadata": {},
   "outputs": [],
   "source": [
    "# 로그인 처리\n",
    "driver.get(\"https://www.catch.co.kr/Member/Login\")\n",
    "\n",
    "# ID 입력\n",
    "driver.find_element(by=\"xpath\", value='//*[@id=\"id_login\"]').send_keys(secrets.CATCH_ID)\n",
    "# PWD 입력\n",
    "driver.find_element(by=\"xpath\", value='//*[@id=\"pw_login\"]').send_keys(secrets.CATCH_PWD)\n",
    "# 로그인 버튼 클릭\n",
    "driver.find_element(by=\"xpath\", value='//*[@id=\"wrapper\"]/div/div[2]/div/p[1]/a').click()"
   ]
  },
  {
   "cell_type": "code",
   "execution_count": 9,
   "metadata": {},
   "outputs": [],
   "source": [
    "# 기업분석 창으로 이동\n",
    "driver.get(\"https://www.catch.co.kr/Comp/CompMajor?flag=Search\")\n",
    "\n",
    "# 코스피,코스닥 필터링\n",
    "driver.find_element(by=\"xpath\", value='//*[@id=\"chkThema코스피코스닥상장\"]').click()\n",
    "driver.find_element(by=\"xpath\", value='//*[@id=\"imgSearch\"]').click()"
   ]
  },
  {
   "cell_type": "code",
   "execution_count": 12,
   "metadata": {},
   "outputs": [
    {
     "ename": "NoSuchElementException",
     "evalue": "Message: no such element: Unable to locate element: {\"method\":\"xpath\",\"selector\":\"//*[@id=\"updates\"]/tbody/tr[1]/td[2]/dl/dt[2]/a\"}\n  (Session info: chrome=98.0.4758.102)\nStacktrace:\nBacktrace:\n\tOrdinal0 [0x00CD69A3+2582947]\n\tOrdinal0 [0x00C6A6D1+2139857]\n\tOrdinal0 [0x00B63A98+1063576]\n\tOrdinal0 [0x00B8FF3E+1244990]\n\tOrdinal0 [0x00B9013B+1245499]\n\tOrdinal0 [0x00BB9F52+1417042]\n\tOrdinal0 [0x00BA8594+1344916]\n\tOrdinal0 [0x00BB834A+1409866]\n\tOrdinal0 [0x00BA8366+1344358]\n\tOrdinal0 [0x00B85176+1200502]\n\tOrdinal0 [0x00B86066+1204326]\n\tGetHandleVerifier [0x00E7BE02+1675858]\n\tGetHandleVerifier [0x00F3036C+2414524]\n\tGetHandleVerifier [0x00D6BB01+560977]\n\tGetHandleVerifier [0x00D6A8D3+556323]\n\tOrdinal0 [0x00C7020E+2163214]\n\tOrdinal0 [0x00C75078+2183288]\n\tOrdinal0 [0x00C751C0+2183616]\n\tOrdinal0 [0x00C7EE1C+2223644]\n\tBaseThreadInitThunk [0x7646FA29+25]\n\tRtlGetAppContainerNamedObjectPath [0x77887A9E+286]\n\tRtlGetAppContainerNamedObjectPath [0x77887A6E+238]\n",
     "output_type": "error",
     "traceback": [
      "\u001b[1;31m---------------------------------------------------------------------------\u001b[0m",
      "\u001b[1;31mNoSuchElementException\u001b[0m                    Traceback (most recent call last)",
      "\u001b[1;32mc:\\Users\\MK\\workspace\\corpsumm\\catch.ipynb Cell 5'\u001b[0m in \u001b[0;36m<module>\u001b[1;34m\u001b[0m\n\u001b[0;32m      <a href='vscode-notebook-cell:/c%3A/Users/MK/workspace/corpsumm/catch.ipynb#ch0000006?line=5'>6</a>\u001b[0m \u001b[39mfor\u001b[39;00m row \u001b[39min\u001b[39;00m \u001b[39mrange\u001b[39m(\u001b[39m1\u001b[39m, n_rows \u001b[39m+\u001b[39m \u001b[39m1\u001b[39m):\n\u001b[0;32m      <a href='vscode-notebook-cell:/c%3A/Users/MK/workspace/corpsumm/catch.ipynb#ch0000006?line=6'>7</a>\u001b[0m     \u001b[39mfor\u001b[39;00m col \u001b[39min\u001b[39;00m \u001b[39mrange\u001b[39m(\u001b[39m1\u001b[39m, n_cols \u001b[39m+\u001b[39m \u001b[39m1\u001b[39m):\n\u001b[0;32m      <a href='vscode-notebook-cell:/c%3A/Users/MK/workspace/corpsumm/catch.ipynb#ch0000006?line=7'>8</a>\u001b[0m         \u001b[39m# 기업개요 페이지 접근\u001b[39;00m\n\u001b[1;32m----> <a href='vscode-notebook-cell:/c%3A/Users/MK/workspace/corpsumm/catch.ipynb#ch0000006?line=8'>9</a>\u001b[0m         driver\u001b[39m.\u001b[39;49mfind_element(by\u001b[39m=\u001b[39;49m\u001b[39m\"\u001b[39;49m\u001b[39mxpath\u001b[39;49m\u001b[39m\"\u001b[39;49m, value\u001b[39m=\u001b[39;49m\u001b[39mf\u001b[39;49m\u001b[39m'\u001b[39;49m\u001b[39m//*[@id=\u001b[39;49m\u001b[39m\"\u001b[39;49m\u001b[39mupdates\u001b[39;49m\u001b[39m\"\u001b[39;49m\u001b[39m]/tbody/tr[\u001b[39;49m\u001b[39m{\u001b[39;49;00mrow\u001b[39m}\u001b[39;49;00m\u001b[39m]/td[\u001b[39;49m\u001b[39m{\u001b[39;49;00mcol\u001b[39m}\u001b[39;49;00m\u001b[39m]/dl/dt[2]/a\u001b[39;49m\u001b[39m'\u001b[39;49m)\u001b[39m.\u001b[39mclick()\n\u001b[0;32m     <a href='vscode-notebook-cell:/c%3A/Users/MK/workspace/corpsumm/catch.ipynb#ch0000006?line=9'>10</a>\u001b[0m         driver\u001b[39m.\u001b[39mimplicitly_wait(\u001b[39m10\u001b[39m)\n\u001b[0;32m     <a href='vscode-notebook-cell:/c%3A/Users/MK/workspace/corpsumm/catch.ipynb#ch0000006?line=10'>11</a>\u001b[0m         \u001b[39m# 기업 요약이 적힌 p태그 수집\u001b[39;00m\n",
      "File \u001b[1;32m~\\Anaconda3\\envs\\notion\\lib\\site-packages\\selenium\\webdriver\\remote\\webdriver.py:1248\u001b[0m, in \u001b[0;36mWebDriver.find_element\u001b[1;34m(self, by, value)\u001b[0m\n\u001b[0;32m   <a href='file:///~/Anaconda3/envs/notion/lib/site-packages/selenium/webdriver/remote/webdriver.py?line=1244'>1245</a>\u001b[0m     by \u001b[39m=\u001b[39m By\u001b[39m.\u001b[39mCSS_SELECTOR\n\u001b[0;32m   <a href='file:///~/Anaconda3/envs/notion/lib/site-packages/selenium/webdriver/remote/webdriver.py?line=1245'>1246</a>\u001b[0m     value \u001b[39m=\u001b[39m \u001b[39m'\u001b[39m\u001b[39m[name=\u001b[39m\u001b[39m\"\u001b[39m\u001b[39m%s\u001b[39;00m\u001b[39m\"\u001b[39m\u001b[39m]\u001b[39m\u001b[39m'\u001b[39m \u001b[39m%\u001b[39m value\n\u001b[1;32m-> <a href='file:///~/Anaconda3/envs/notion/lib/site-packages/selenium/webdriver/remote/webdriver.py?line=1247'>1248</a>\u001b[0m \u001b[39mreturn\u001b[39;00m \u001b[39mself\u001b[39;49m\u001b[39m.\u001b[39;49mexecute(Command\u001b[39m.\u001b[39;49mFIND_ELEMENT, {\n\u001b[0;32m   <a href='file:///~/Anaconda3/envs/notion/lib/site-packages/selenium/webdriver/remote/webdriver.py?line=1248'>1249</a>\u001b[0m     \u001b[39m'\u001b[39;49m\u001b[39musing\u001b[39;49m\u001b[39m'\u001b[39;49m: by,\n\u001b[0;32m   <a href='file:///~/Anaconda3/envs/notion/lib/site-packages/selenium/webdriver/remote/webdriver.py?line=1249'>1250</a>\u001b[0m     \u001b[39m'\u001b[39;49m\u001b[39mvalue\u001b[39;49m\u001b[39m'\u001b[39;49m: value})[\u001b[39m'\u001b[39m\u001b[39mvalue\u001b[39m\u001b[39m'\u001b[39m]\n",
      "File \u001b[1;32m~\\Anaconda3\\envs\\notion\\lib\\site-packages\\selenium\\webdriver\\remote\\webdriver.py:425\u001b[0m, in \u001b[0;36mWebDriver.execute\u001b[1;34m(self, driver_command, params)\u001b[0m\n\u001b[0;32m    <a href='file:///~/Anaconda3/envs/notion/lib/site-packages/selenium/webdriver/remote/webdriver.py?line=422'>423</a>\u001b[0m response \u001b[39m=\u001b[39m \u001b[39mself\u001b[39m\u001b[39m.\u001b[39mcommand_executor\u001b[39m.\u001b[39mexecute(driver_command, params)\n\u001b[0;32m    <a href='file:///~/Anaconda3/envs/notion/lib/site-packages/selenium/webdriver/remote/webdriver.py?line=423'>424</a>\u001b[0m \u001b[39mif\u001b[39;00m response:\n\u001b[1;32m--> <a href='file:///~/Anaconda3/envs/notion/lib/site-packages/selenium/webdriver/remote/webdriver.py?line=424'>425</a>\u001b[0m     \u001b[39mself\u001b[39;49m\u001b[39m.\u001b[39;49merror_handler\u001b[39m.\u001b[39;49mcheck_response(response)\n\u001b[0;32m    <a href='file:///~/Anaconda3/envs/notion/lib/site-packages/selenium/webdriver/remote/webdriver.py?line=425'>426</a>\u001b[0m     response[\u001b[39m'\u001b[39m\u001b[39mvalue\u001b[39m\u001b[39m'\u001b[39m] \u001b[39m=\u001b[39m \u001b[39mself\u001b[39m\u001b[39m.\u001b[39m_unwrap_value(\n\u001b[0;32m    <a href='file:///~/Anaconda3/envs/notion/lib/site-packages/selenium/webdriver/remote/webdriver.py?line=426'>427</a>\u001b[0m         response\u001b[39m.\u001b[39mget(\u001b[39m'\u001b[39m\u001b[39mvalue\u001b[39m\u001b[39m'\u001b[39m, \u001b[39mNone\u001b[39;00m))\n\u001b[0;32m    <a href='file:///~/Anaconda3/envs/notion/lib/site-packages/selenium/webdriver/remote/webdriver.py?line=427'>428</a>\u001b[0m     \u001b[39mreturn\u001b[39;00m response\n",
      "File \u001b[1;32m~\\Anaconda3\\envs\\notion\\lib\\site-packages\\selenium\\webdriver\\remote\\errorhandler.py:247\u001b[0m, in \u001b[0;36mErrorHandler.check_response\u001b[1;34m(self, response)\u001b[0m\n\u001b[0;32m    <a href='file:///~/Anaconda3/envs/notion/lib/site-packages/selenium/webdriver/remote/errorhandler.py?line=244'>245</a>\u001b[0m         alert_text \u001b[39m=\u001b[39m value[\u001b[39m'\u001b[39m\u001b[39malert\u001b[39m\u001b[39m'\u001b[39m]\u001b[39m.\u001b[39mget(\u001b[39m'\u001b[39m\u001b[39mtext\u001b[39m\u001b[39m'\u001b[39m)\n\u001b[0;32m    <a href='file:///~/Anaconda3/envs/notion/lib/site-packages/selenium/webdriver/remote/errorhandler.py?line=245'>246</a>\u001b[0m     \u001b[39mraise\u001b[39;00m exception_class(message, screen, stacktrace, alert_text)  \u001b[39m# type: ignore[call-arg]  # mypy is not smart enough here\u001b[39;00m\n\u001b[1;32m--> <a href='file:///~/Anaconda3/envs/notion/lib/site-packages/selenium/webdriver/remote/errorhandler.py?line=246'>247</a>\u001b[0m \u001b[39mraise\u001b[39;00m exception_class(message, screen, stacktrace)\n",
      "\u001b[1;31mNoSuchElementException\u001b[0m: Message: no such element: Unable to locate element: {\"method\":\"xpath\",\"selector\":\"//*[@id=\"updates\"]/tbody/tr[1]/td[2]/dl/dt[2]/a\"}\n  (Session info: chrome=98.0.4758.102)\nStacktrace:\nBacktrace:\n\tOrdinal0 [0x00CD69A3+2582947]\n\tOrdinal0 [0x00C6A6D1+2139857]\n\tOrdinal0 [0x00B63A98+1063576]\n\tOrdinal0 [0x00B8FF3E+1244990]\n\tOrdinal0 [0x00B9013B+1245499]\n\tOrdinal0 [0x00BB9F52+1417042]\n\tOrdinal0 [0x00BA8594+1344916]\n\tOrdinal0 [0x00BB834A+1409866]\n\tOrdinal0 [0x00BA8366+1344358]\n\tOrdinal0 [0x00B85176+1200502]\n\tOrdinal0 [0x00B86066+1204326]\n\tGetHandleVerifier [0x00E7BE02+1675858]\n\tGetHandleVerifier [0x00F3036C+2414524]\n\tGetHandleVerifier [0x00D6BB01+560977]\n\tGetHandleVerifier [0x00D6A8D3+556323]\n\tOrdinal0 [0x00C7020E+2163214]\n\tOrdinal0 [0x00C75078+2183288]\n\tOrdinal0 [0x00C751C0+2183616]\n\tOrdinal0 [0x00C7EE1C+2223644]\n\tBaseThreadInitThunk [0x7646FA29+25]\n\tRtlGetAppContainerNamedObjectPath [0x77887A9E+286]\n\tRtlGetAppContainerNamedObjectPath [0x77887A6E+238]\n"
     ]
    }
   ],
   "source": [
    "n_rows = 10\n",
    "n_cols = 2\n",
    "\n",
    "paragraphs = []\n",
    "\n",
    "for row in range(1, n_rows + 1):\n",
    "    for col in range(1, n_cols + 1):\n",
    "        # 기업개요 페이지 접근\n",
    "        driver.find_element(by=\"xpath\", value=f'//*[@id=\"updates\"]/tbody/tr[{row}]/td[{col}]/dl/dt[2]/a').click()\n",
    "        driver.implicitly_wait(10)\n",
    "        # 기업 요약이 적힌 p태그 수집\n",
    "        html = driver.page_source\n",
    "        soup = bs4.BeautifulSoup(html, 'html.parser')\n",
    "        paragraph = soup.select('#Contents > div:nth-child(2) > div:nth-child(2) > div.corp_bizexp2 > div.left > p')\n",
    "        paragraphs.append(paragraph)\n",
    "\n",
    "        driver.back()\n"
   ]
  },
  {
   "cell_type": "code",
   "execution_count": 15,
   "metadata": {},
   "outputs": [
    {
     "data": {
      "text/plain": [
       "NoneType"
      ]
     },
     "execution_count": 15,
     "metadata": {},
     "output_type": "execute_result"
    }
   ],
   "source": [
    "type(paragraph)"
   ]
  },
  {
   "cell_type": "code",
   "execution_count": 10,
   "metadata": {},
   "outputs": [],
   "source": []
  },
  {
   "cell_type": "code",
   "execution_count": 8,
   "metadata": {},
   "outputs": [],
   "source": []
  }
 ],
 "metadata": {
  "interpreter": {
   "hash": "1c55b556ac51485e732a890ad90cd6645ce1cc39d925e658e03cc3acbd484518"
  },
  "kernelspec": {
   "display_name": "Python 3.10.2 ('notion')",
   "language": "python",
   "name": "python3"
  },
  "language_info": {
   "codemirror_mode": {
    "name": "ipython",
    "version": 3
   },
   "file_extension": ".py",
   "mimetype": "text/x-python",
   "name": "python",
   "nbconvert_exporter": "python",
   "pygments_lexer": "ipython3",
   "version": "3.10.2"
  },
  "orig_nbformat": 4
 },
 "nbformat": 4,
 "nbformat_minor": 2
}
