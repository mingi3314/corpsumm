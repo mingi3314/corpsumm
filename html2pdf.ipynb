{
 "cells": [
  {
   "cell_type": "code",
   "execution_count": 1,
   "id": "7e07b78a-ac2d-4eb5-ab71-ddfeface6ebb",
   "metadata": {},
   "outputs": [],
   "source": [
    "import os\n",
    "import pdfkit"
   ]
  },
  {
   "cell_type": "code",
   "execution_count": 2,
   "id": "24582e1e",
   "metadata": {},
   "outputs": [
    {
     "ename": "OSError",
     "evalue": "No wkhtmltopdf executable found: \"C:/Program Files/wkhtmltopdf/bin/wkhtmltopdf\"\nIf this file exists please check that this process can read it or you can pass path to it manually in method call, check README. Otherwise please install wkhtmltopdf - https://github.com/JazzCore/python-pdfkit/wiki/Installing-wkhtmltopdf",
     "output_type": "error",
     "traceback": [
      "\u001b[1;31m---------------------------------------------------------------------------\u001b[0m",
      "\u001b[1;31mFileNotFoundError\u001b[0m                         Traceback (most recent call last)",
      "File \u001b[1;32m~\\Anaconda3\\envs\\notion\\lib\\site-packages\\pdfkit\\configuration.py:35\u001b[0m, in \u001b[0;36mConfiguration.__init__\u001b[1;34m(self, wkhtmltopdf, meta_tag_prefix, environ)\u001b[0m\n\u001b[0;32m     <a href='file:///~/Anaconda3/envs/notion/lib/site-packages/pdfkit/configuration.py?line=32'>33</a>\u001b[0m     \u001b[39mself\u001b[39m\u001b[39m.\u001b[39mwkhtmltopdf \u001b[39m=\u001b[39m lines[\u001b[39m0\u001b[39m]\u001b[39m.\u001b[39mstrip()\n\u001b[1;32m---> <a href='file:///~/Anaconda3/envs/notion/lib/site-packages/pdfkit/configuration.py?line=34'>35</a>\u001b[0m \u001b[39mwith\u001b[39;00m \u001b[39mopen\u001b[39;49m(\u001b[39mself\u001b[39;49m\u001b[39m.\u001b[39;49mwkhtmltopdf) \u001b[39mas\u001b[39;00m f:\n\u001b[0;32m     <a href='file:///~/Anaconda3/envs/notion/lib/site-packages/pdfkit/configuration.py?line=35'>36</a>\u001b[0m     \u001b[39mpass\u001b[39;00m\n",
      "\u001b[1;31mFileNotFoundError\u001b[0m: [Errno 2] No such file or directory: 'C:/Program Files/wkhtmltopdf/bin/wkhtmltopdf'",
      "\nDuring handling of the above exception, another exception occurred:\n",
      "\u001b[1;31mOSError\u001b[0m                                   Traceback (most recent call last)",
      "\u001b[1;32mc:\\Users\\MK\\workspace\\corpsumm\\html2pdf.ipynb Cell 2'\u001b[0m in \u001b[0;36m<module>\u001b[1;34m\u001b[0m\n\u001b[1;32m----> <a href='vscode-notebook-cell:/c%3A/Users/MK/workspace/corpsumm/html2pdf.ipynb#ch0000001?line=0'>1</a>\u001b[0m pdfkit\u001b[39m.\u001b[39;49mconfiguration(wkhtmltopdf\u001b[39m=\u001b[39;49m\u001b[39m'\u001b[39;49m\u001b[39mC:/Program Files/wkhtmltopdf/bin/wkhtmltopdf\u001b[39;49m\u001b[39m'\u001b[39;49m)\n",
      "File \u001b[1;32m~\\Anaconda3\\envs\\notion\\lib\\site-packages\\pdfkit\\api.py:86\u001b[0m, in \u001b[0;36mconfiguration\u001b[1;34m(**kwargs)\u001b[0m\n\u001b[0;32m     <a href='file:///~/Anaconda3/envs/notion/lib/site-packages/pdfkit/api.py?line=77'>78</a>\u001b[0m \u001b[39mdef\u001b[39;00m \u001b[39mconfiguration\u001b[39m(\u001b[39m*\u001b[39m\u001b[39m*\u001b[39mkwargs):\n\u001b[0;32m     <a href='file:///~/Anaconda3/envs/notion/lib/site-packages/pdfkit/api.py?line=78'>79</a>\u001b[0m     \u001b[39m\"\"\"\u001b[39;00m\n\u001b[0;32m     <a href='file:///~/Anaconda3/envs/notion/lib/site-packages/pdfkit/api.py?line=79'>80</a>\u001b[0m \u001b[39m    Constructs and returns a :class:`Configuration` with given options\u001b[39;00m\n\u001b[0;32m     <a href='file:///~/Anaconda3/envs/notion/lib/site-packages/pdfkit/api.py?line=80'>81</a>\u001b[0m \n\u001b[0;32m     <a href='file:///~/Anaconda3/envs/notion/lib/site-packages/pdfkit/api.py?line=81'>82</a>\u001b[0m \u001b[39m    :param wkhtmltopdf: path to binary\u001b[39;00m\n\u001b[0;32m     <a href='file:///~/Anaconda3/envs/notion/lib/site-packages/pdfkit/api.py?line=82'>83</a>\u001b[0m \u001b[39m    :param meta_tag_prefix: the prefix for ``pdfkit`` specific meta tags\u001b[39;00m\n\u001b[0;32m     <a href='file:///~/Anaconda3/envs/notion/lib/site-packages/pdfkit/api.py?line=83'>84</a>\u001b[0m \u001b[39m    \"\"\"\u001b[39;00m\n\u001b[1;32m---> <a href='file:///~/Anaconda3/envs/notion/lib/site-packages/pdfkit/api.py?line=85'>86</a>\u001b[0m     \u001b[39mreturn\u001b[39;00m Configuration(\u001b[39m*\u001b[39m\u001b[39m*\u001b[39mkwargs)\n",
      "File \u001b[1;32m~\\Anaconda3\\envs\\notion\\lib\\site-packages\\pdfkit\\configuration.py:38\u001b[0m, in \u001b[0;36mConfiguration.__init__\u001b[1;34m(self, wkhtmltopdf, meta_tag_prefix, environ)\u001b[0m\n\u001b[0;32m     <a href='file:///~/Anaconda3/envs/notion/lib/site-packages/pdfkit/configuration.py?line=35'>36</a>\u001b[0m         \u001b[39mpass\u001b[39;00m\n\u001b[0;32m     <a href='file:///~/Anaconda3/envs/notion/lib/site-packages/pdfkit/configuration.py?line=36'>37</a>\u001b[0m \u001b[39mexcept\u001b[39;00m (\u001b[39mIOError\u001b[39;00m, \u001b[39mFileNotFoundError\u001b[39;00m) \u001b[39mas\u001b[39;00m e:\n\u001b[1;32m---> <a href='file:///~/Anaconda3/envs/notion/lib/site-packages/pdfkit/configuration.py?line=37'>38</a>\u001b[0m     \u001b[39mraise\u001b[39;00m \u001b[39mIOError\u001b[39;00m(\u001b[39m'\u001b[39m\u001b[39mNo wkhtmltopdf executable found: \u001b[39m\u001b[39m\"\u001b[39m\u001b[39m%s\u001b[39;00m\u001b[39m\"\u001b[39m\u001b[39m\\n\u001b[39;00m\u001b[39m'\u001b[39m\n\u001b[0;32m     <a href='file:///~/Anaconda3/envs/notion/lib/site-packages/pdfkit/configuration.py?line=38'>39</a>\u001b[0m                   \u001b[39m'\u001b[39m\u001b[39mIf this file exists please check that this process can \u001b[39m\u001b[39m'\u001b[39m\n\u001b[0;32m     <a href='file:///~/Anaconda3/envs/notion/lib/site-packages/pdfkit/configuration.py?line=39'>40</a>\u001b[0m                   \u001b[39m'\u001b[39m\u001b[39mread it or you can pass path to it manually in method call, \u001b[39m\u001b[39m'\u001b[39m\n\u001b[0;32m     <a href='file:///~/Anaconda3/envs/notion/lib/site-packages/pdfkit/configuration.py?line=40'>41</a>\u001b[0m                   \u001b[39m'\u001b[39m\u001b[39mcheck README. Otherwise please install wkhtmltopdf - \u001b[39m\u001b[39m'\u001b[39m\n\u001b[0;32m     <a href='file:///~/Anaconda3/envs/notion/lib/site-packages/pdfkit/configuration.py?line=41'>42</a>\u001b[0m                   \u001b[39m'\u001b[39m\u001b[39mhttps://github.com/JazzCore/python-pdfkit/wiki/Installing-wkhtmltopdf\u001b[39m\u001b[39m'\u001b[39m \u001b[39m%\u001b[39m \u001b[39mself\u001b[39m\u001b[39m.\u001b[39mwkhtmltopdf)\n\u001b[0;32m     <a href='file:///~/Anaconda3/envs/notion/lib/site-packages/pdfkit/configuration.py?line=44'>45</a>\u001b[0m \u001b[39mself\u001b[39m\u001b[39m.\u001b[39menviron \u001b[39m=\u001b[39m environ\n\u001b[0;32m     <a href='file:///~/Anaconda3/envs/notion/lib/site-packages/pdfkit/configuration.py?line=46'>47</a>\u001b[0m \u001b[39mif\u001b[39;00m \u001b[39mnot\u001b[39;00m \u001b[39mself\u001b[39m\u001b[39m.\u001b[39menviron:\n",
      "\u001b[1;31mOSError\u001b[0m: No wkhtmltopdf executable found: \"C:/Program Files/wkhtmltopdf/bin/wkhtmltopdf\"\nIf this file exists please check that this process can read it or you can pass path to it manually in method call, check README. Otherwise please install wkhtmltopdf - https://github.com/JazzCore/python-pdfkit/wiki/Installing-wkhtmltopdf"
     ]
    }
   ],
   "source": [
    "pdfkit.configuration(wkhtmltopdf='C:/Program Files/wkhtmltopdf/bin/wkhtmltopdf')"
   ]
  },
  {
   "cell_type": "code",
   "execution_count": 3,
   "id": "102a5863",
   "metadata": {},
   "outputs": [
    {
     "ename": "OSError",
     "evalue": "No wkhtmltopdf executable found: \"b''\"\nIf this file exists please check that this process can read it or you can pass path to it manually in method call, check README. Otherwise please install wkhtmltopdf - https://github.com/JazzCore/python-pdfkit/wiki/Installing-wkhtmltopdf",
     "output_type": "error",
     "traceback": [
      "\u001b[1;31m---------------------------------------------------------------------------\u001b[0m",
      "\u001b[1;31mFileNotFoundError\u001b[0m                         Traceback (most recent call last)",
      "File \u001b[1;32m~\\Anaconda3\\envs\\notion\\lib\\site-packages\\pdfkit\\configuration.py:35\u001b[0m, in \u001b[0;36mConfiguration.__init__\u001b[1;34m(self, wkhtmltopdf, meta_tag_prefix, environ)\u001b[0m\n\u001b[0;32m     <a href='file:///~/Anaconda3/envs/notion/lib/site-packages/pdfkit/configuration.py?line=32'>33</a>\u001b[0m     \u001b[39mself\u001b[39m\u001b[39m.\u001b[39mwkhtmltopdf \u001b[39m=\u001b[39m lines[\u001b[39m0\u001b[39m]\u001b[39m.\u001b[39mstrip()\n\u001b[1;32m---> <a href='file:///~/Anaconda3/envs/notion/lib/site-packages/pdfkit/configuration.py?line=34'>35</a>\u001b[0m \u001b[39mwith\u001b[39;00m \u001b[39mopen\u001b[39;49m(\u001b[39mself\u001b[39;49m\u001b[39m.\u001b[39;49mwkhtmltopdf) \u001b[39mas\u001b[39;00m f:\n\u001b[0;32m     <a href='file:///~/Anaconda3/envs/notion/lib/site-packages/pdfkit/configuration.py?line=35'>36</a>\u001b[0m     \u001b[39mpass\u001b[39;00m\n",
      "\u001b[1;31mFileNotFoundError\u001b[0m: [Errno 2] No such file or directory: b''",
      "\nDuring handling of the above exception, another exception occurred:\n",
      "\u001b[1;31mOSError\u001b[0m                                   Traceback (most recent call last)",
      "\u001b[1;32mc:\\Users\\MK\\workspace\\corpsumm\\html2pdf.ipynb Cell 3'\u001b[0m in \u001b[0;36m<module>\u001b[1;34m\u001b[0m\n\u001b[1;32m----> <a href='vscode-notebook-cell:/c%3A/Users/MK/workspace/corpsumm/html2pdf.ipynb#ch0000002?line=0'>1</a>\u001b[0m pdfkit\u001b[39m.\u001b[39;49mfrom_file(\u001b[39m\"\u001b[39;49m\u001b[39moutputs/000020_동화약품.html\u001b[39;49m\u001b[39m\"\u001b[39;49m, \u001b[39m\"\u001b[39;49m\u001b[39msample_pdf.pdf\u001b[39;49m\u001b[39m\"\u001b[39;49m)\n",
      "File \u001b[1;32m~\\Anaconda3\\envs\\notion\\lib\\site-packages\\pdfkit\\api.py:48\u001b[0m, in \u001b[0;36mfrom_file\u001b[1;34m(input, output_path, options, toc, cover, css, configuration, cover_first, verbose)\u001b[0m\n\u001b[0;32m     <a href='file:///~/Anaconda3/envs/notion/lib/site-packages/pdfkit/api.py?line=29'>30</a>\u001b[0m \u001b[39mdef\u001b[39;00m \u001b[39mfrom_file\u001b[39m(\u001b[39minput\u001b[39m, output_path\u001b[39m=\u001b[39m\u001b[39mNone\u001b[39;00m, options\u001b[39m=\u001b[39m\u001b[39mNone\u001b[39;00m, toc\u001b[39m=\u001b[39m\u001b[39mNone\u001b[39;00m, cover\u001b[39m=\u001b[39m\u001b[39mNone\u001b[39;00m, css\u001b[39m=\u001b[39m\u001b[39mNone\u001b[39;00m,\n\u001b[0;32m     <a href='file:///~/Anaconda3/envs/notion/lib/site-packages/pdfkit/api.py?line=30'>31</a>\u001b[0m               configuration\u001b[39m=\u001b[39m\u001b[39mNone\u001b[39;00m, cover_first\u001b[39m=\u001b[39m\u001b[39mFalse\u001b[39;00m, verbose\u001b[39m=\u001b[39m\u001b[39mFalse\u001b[39;00m):\n\u001b[0;32m     <a href='file:///~/Anaconda3/envs/notion/lib/site-packages/pdfkit/api.py?line=31'>32</a>\u001b[0m     \u001b[39m\"\"\"\u001b[39;00m\n\u001b[0;32m     <a href='file:///~/Anaconda3/envs/notion/lib/site-packages/pdfkit/api.py?line=32'>33</a>\u001b[0m \u001b[39m    Convert HTML file or files to PDF document\u001b[39;00m\n\u001b[0;32m     <a href='file:///~/Anaconda3/envs/notion/lib/site-packages/pdfkit/api.py?line=33'>34</a>\u001b[0m \n\u001b[1;32m   (...)\u001b[0m\n\u001b[0;32m     <a href='file:///~/Anaconda3/envs/notion/lib/site-packages/pdfkit/api.py?line=44'>45</a>\u001b[0m \u001b[39m    Returns: True on success\u001b[39;00m\n\u001b[0;32m     <a href='file:///~/Anaconda3/envs/notion/lib/site-packages/pdfkit/api.py?line=45'>46</a>\u001b[0m \u001b[39m    \"\"\"\u001b[39;00m\n\u001b[1;32m---> <a href='file:///~/Anaconda3/envs/notion/lib/site-packages/pdfkit/api.py?line=47'>48</a>\u001b[0m     r \u001b[39m=\u001b[39m PDFKit(\u001b[39minput\u001b[39;49m, \u001b[39m'\u001b[39;49m\u001b[39mfile\u001b[39;49m\u001b[39m'\u001b[39;49m, options\u001b[39m=\u001b[39;49moptions, toc\u001b[39m=\u001b[39;49mtoc, cover\u001b[39m=\u001b[39;49mcover, css\u001b[39m=\u001b[39;49mcss,\n\u001b[0;32m     <a href='file:///~/Anaconda3/envs/notion/lib/site-packages/pdfkit/api.py?line=48'>49</a>\u001b[0m                configuration\u001b[39m=\u001b[39;49mconfiguration, cover_first\u001b[39m=\u001b[39;49mcover_first, verbose\u001b[39m=\u001b[39;49mverbose)\n\u001b[0;32m     <a href='file:///~/Anaconda3/envs/notion/lib/site-packages/pdfkit/api.py?line=50'>51</a>\u001b[0m     \u001b[39mreturn\u001b[39;00m r\u001b[39m.\u001b[39mto_pdf(output_path)\n",
      "File \u001b[1;32m~\\Anaconda3\\envs\\notion\\lib\\site-packages\\pdfkit\\pdfkit.py:45\u001b[0m, in \u001b[0;36mPDFKit.__init__\u001b[1;34m(self, url_or_file, type_, options, toc, cover, css, configuration, cover_first, verbose)\u001b[0m\n\u001b[0;32m     <a href='file:///~/Anaconda3/envs/notion/lib/site-packages/pdfkit/pdfkit.py?line=40'>41</a>\u001b[0m \u001b[39mdef\u001b[39;00m \u001b[39m__init__\u001b[39m(\u001b[39mself\u001b[39m, url_or_file, type_, options\u001b[39m=\u001b[39m\u001b[39mNone\u001b[39;00m, toc\u001b[39m=\u001b[39m\u001b[39mNone\u001b[39;00m, cover\u001b[39m=\u001b[39m\u001b[39mNone\u001b[39;00m,\n\u001b[0;32m     <a href='file:///~/Anaconda3/envs/notion/lib/site-packages/pdfkit/pdfkit.py?line=41'>42</a>\u001b[0m              css\u001b[39m=\u001b[39m\u001b[39mNone\u001b[39;00m, configuration\u001b[39m=\u001b[39m\u001b[39mNone\u001b[39;00m, cover_first\u001b[39m=\u001b[39m\u001b[39mFalse\u001b[39;00m, verbose\u001b[39m=\u001b[39m\u001b[39mFalse\u001b[39;00m):\n\u001b[0;32m     <a href='file:///~/Anaconda3/envs/notion/lib/site-packages/pdfkit/pdfkit.py?line=43'>44</a>\u001b[0m     \u001b[39mself\u001b[39m\u001b[39m.\u001b[39msource \u001b[39m=\u001b[39m Source(url_or_file, type_)\n\u001b[1;32m---> <a href='file:///~/Anaconda3/envs/notion/lib/site-packages/pdfkit/pdfkit.py?line=44'>45</a>\u001b[0m     \u001b[39mself\u001b[39m\u001b[39m.\u001b[39mconfiguration \u001b[39m=\u001b[39m (Configuration() \u001b[39mif\u001b[39;00m configuration \u001b[39mis\u001b[39;00m \u001b[39mNone\u001b[39;00m\n\u001b[0;32m     <a href='file:///~/Anaconda3/envs/notion/lib/site-packages/pdfkit/pdfkit.py?line=45'>46</a>\u001b[0m                           \u001b[39melse\u001b[39;00m configuration)\n\u001b[0;32m     <a href='file:///~/Anaconda3/envs/notion/lib/site-packages/pdfkit/pdfkit.py?line=46'>47</a>\u001b[0m     \u001b[39mtry\u001b[39;00m:\n\u001b[0;32m     <a href='file:///~/Anaconda3/envs/notion/lib/site-packages/pdfkit/pdfkit.py?line=47'>48</a>\u001b[0m         \u001b[39mself\u001b[39m\u001b[39m.\u001b[39mwkhtmltopdf \u001b[39m=\u001b[39m \u001b[39mself\u001b[39m\u001b[39m.\u001b[39mconfiguration\u001b[39m.\u001b[39mwkhtmltopdf\u001b[39m.\u001b[39mdecode(\u001b[39m'\u001b[39m\u001b[39mutf-8\u001b[39m\u001b[39m'\u001b[39m)\n",
      "File \u001b[1;32m~\\Anaconda3\\envs\\notion\\lib\\site-packages\\pdfkit\\configuration.py:38\u001b[0m, in \u001b[0;36mConfiguration.__init__\u001b[1;34m(self, wkhtmltopdf, meta_tag_prefix, environ)\u001b[0m\n\u001b[0;32m     <a href='file:///~/Anaconda3/envs/notion/lib/site-packages/pdfkit/configuration.py?line=35'>36</a>\u001b[0m         \u001b[39mpass\u001b[39;00m\n\u001b[0;32m     <a href='file:///~/Anaconda3/envs/notion/lib/site-packages/pdfkit/configuration.py?line=36'>37</a>\u001b[0m \u001b[39mexcept\u001b[39;00m (\u001b[39mIOError\u001b[39;00m, \u001b[39mFileNotFoundError\u001b[39;00m) \u001b[39mas\u001b[39;00m e:\n\u001b[1;32m---> <a href='file:///~/Anaconda3/envs/notion/lib/site-packages/pdfkit/configuration.py?line=37'>38</a>\u001b[0m     \u001b[39mraise\u001b[39;00m \u001b[39mIOError\u001b[39;00m(\u001b[39m'\u001b[39m\u001b[39mNo wkhtmltopdf executable found: \u001b[39m\u001b[39m\"\u001b[39m\u001b[39m%s\u001b[39;00m\u001b[39m\"\u001b[39m\u001b[39m\\n\u001b[39;00m\u001b[39m'\u001b[39m\n\u001b[0;32m     <a href='file:///~/Anaconda3/envs/notion/lib/site-packages/pdfkit/configuration.py?line=38'>39</a>\u001b[0m                   \u001b[39m'\u001b[39m\u001b[39mIf this file exists please check that this process can \u001b[39m\u001b[39m'\u001b[39m\n\u001b[0;32m     <a href='file:///~/Anaconda3/envs/notion/lib/site-packages/pdfkit/configuration.py?line=39'>40</a>\u001b[0m                   \u001b[39m'\u001b[39m\u001b[39mread it or you can pass path to it manually in method call, \u001b[39m\u001b[39m'\u001b[39m\n\u001b[0;32m     <a href='file:///~/Anaconda3/envs/notion/lib/site-packages/pdfkit/configuration.py?line=40'>41</a>\u001b[0m                   \u001b[39m'\u001b[39m\u001b[39mcheck README. Otherwise please install wkhtmltopdf - \u001b[39m\u001b[39m'\u001b[39m\n\u001b[0;32m     <a href='file:///~/Anaconda3/envs/notion/lib/site-packages/pdfkit/configuration.py?line=41'>42</a>\u001b[0m                   \u001b[39m'\u001b[39m\u001b[39mhttps://github.com/JazzCore/python-pdfkit/wiki/Installing-wkhtmltopdf\u001b[39m\u001b[39m'\u001b[39m \u001b[39m%\u001b[39m \u001b[39mself\u001b[39m\u001b[39m.\u001b[39mwkhtmltopdf)\n\u001b[0;32m     <a href='file:///~/Anaconda3/envs/notion/lib/site-packages/pdfkit/configuration.py?line=44'>45</a>\u001b[0m \u001b[39mself\u001b[39m\u001b[39m.\u001b[39menviron \u001b[39m=\u001b[39m environ\n\u001b[0;32m     <a href='file:///~/Anaconda3/envs/notion/lib/site-packages/pdfkit/configuration.py?line=46'>47</a>\u001b[0m \u001b[39mif\u001b[39;00m \u001b[39mnot\u001b[39;00m \u001b[39mself\u001b[39m\u001b[39m.\u001b[39menviron:\n",
      "\u001b[1;31mOSError\u001b[0m: No wkhtmltopdf executable found: \"b''\"\nIf this file exists please check that this process can read it or you can pass path to it manually in method call, check README. Otherwise please install wkhtmltopdf - https://github.com/JazzCore/python-pdfkit/wiki/Installing-wkhtmltopdf"
     ]
    }
   ],
   "source": [
    "pdfkit.from_file(\"outputs/000020_동화약품.html\", \"sample_pdf.pdf\")"
   ]
  },
  {
   "cell_type": "markdown",
   "id": "36fbd82d-f5c5-450e-9bea-a26d23a5aedb",
   "metadata": {},
   "source": [
    "#### Todo\n",
    "- 최상단에 `<meta charset=\"utf-8\">\\n` 코드 삽입 필요"
   ]
  },
  {
   "cell_type": "code",
   "execution_count": 31,
   "id": "1322d3de-9548-4f2d-95e5-9aaad9cda589",
   "metadata": {},
   "outputs": [
    {
     "data": {
      "text/html": [
       "<div>\n",
       "<style scoped>\n",
       "    .dataframe tbody tr th:only-of-type {\n",
       "        vertical-align: middle;\n",
       "    }\n",
       "\n",
       "    .dataframe tbody tr th {\n",
       "        vertical-align: top;\n",
       "    }\n",
       "\n",
       "    .dataframe thead th {\n",
       "        text-align: right;\n",
       "    }\n",
       "</style>\n",
       "<table border=\"1\" class=\"dataframe\">\n",
       "  <thead>\n",
       "    <tr style=\"text-align: right;\">\n",
       "      <th></th>\n",
       "      <th>회사명</th>\n",
       "      <th>종목코드</th>\n",
       "      <th>html</th>\n",
       "    </tr>\n",
       "  </thead>\n",
       "  <tbody>\n",
       "    <tr>\n",
       "      <th>0</th>\n",
       "      <td>DRB동일</td>\n",
       "      <td>004840</td>\n",
       "      <td>&lt;article class=\"scrarea type-01\" style=\"height...</td>\n",
       "    </tr>\n",
       "    <tr>\n",
       "      <th>1</th>\n",
       "      <td>DSR</td>\n",
       "      <td>155660</td>\n",
       "      <td>NaN</td>\n",
       "    </tr>\n",
       "    <tr>\n",
       "      <th>2</th>\n",
       "      <td>GS</td>\n",
       "      <td>078930</td>\n",
       "      <td>&lt;article class=\"scrarea type-01\" style=\"height...</td>\n",
       "    </tr>\n",
       "    <tr>\n",
       "      <th>3</th>\n",
       "      <td>GS글로벌</td>\n",
       "      <td>001250</td>\n",
       "      <td>&lt;article class=\"scrarea type-01\" style=\"height...</td>\n",
       "    </tr>\n",
       "    <tr>\n",
       "      <th>4</th>\n",
       "      <td>HDC현대산업개발</td>\n",
       "      <td>294870</td>\n",
       "      <td>&lt;article class=\"scrarea type-01\" style=\"height...</td>\n",
       "    </tr>\n",
       "    <tr>\n",
       "      <th>...</th>\n",
       "      <td>...</td>\n",
       "      <td>...</td>\n",
       "      <td>...</td>\n",
       "    </tr>\n",
       "    <tr>\n",
       "      <th>2477</th>\n",
       "      <td>토마토시스템</td>\n",
       "      <td>393210</td>\n",
       "      <td>NaN</td>\n",
       "    </tr>\n",
       "    <tr>\n",
       "      <th>2478</th>\n",
       "      <td>틸론</td>\n",
       "      <td>217880</td>\n",
       "      <td>&lt;article class=\"scrarea type-01\" style=\"height...</td>\n",
       "    </tr>\n",
       "    <tr>\n",
       "      <th>2479</th>\n",
       "      <td>플럼라인생명과학</td>\n",
       "      <td>222670</td>\n",
       "      <td>&lt;article class=\"scrarea type-01\" style=\"height...</td>\n",
       "    </tr>\n",
       "    <tr>\n",
       "      <th>2480</th>\n",
       "      <td>한국미라클피플사</td>\n",
       "      <td>331660</td>\n",
       "      <td>&lt;article class=\"scrarea type-01\" style=\"height...</td>\n",
       "    </tr>\n",
       "    <tr>\n",
       "      <th>2481</th>\n",
       "      <td>휴벡셀</td>\n",
       "      <td>212310</td>\n",
       "      <td>&lt;article class=\"scrarea type-01\" style=\"height...</td>\n",
       "    </tr>\n",
       "  </tbody>\n",
       "</table>\n",
       "<p>2482 rows × 3 columns</p>\n",
       "</div>"
      ],
      "text/plain": [
       "            회사명    종목코드                                               html\n",
       "0         DRB동일  004840  <article class=\"scrarea type-01\" style=\"height...\n",
       "1           DSR  155660                                                NaN\n",
       "2            GS  078930  <article class=\"scrarea type-01\" style=\"height...\n",
       "3         GS글로벌  001250  <article class=\"scrarea type-01\" style=\"height...\n",
       "4     HDC현대산업개발  294870  <article class=\"scrarea type-01\" style=\"height...\n",
       "...         ...     ...                                                ...\n",
       "2477     토마토시스템  393210                                                NaN\n",
       "2478         틸론  217880  <article class=\"scrarea type-01\" style=\"height...\n",
       "2479   플럼라인생명과학  222670  <article class=\"scrarea type-01\" style=\"height...\n",
       "2480   한국미라클피플사  331660  <article class=\"scrarea type-01\" style=\"height...\n",
       "2481        휴벡셀  212310  <article class=\"scrarea type-01\" style=\"height...\n",
       "\n",
       "[2482 rows x 3 columns]"
      ]
     },
     "execution_count": 31,
     "metadata": {},
     "output_type": "execute_result"
    }
   ],
   "source": [
    "df_summ = pd.read_excel(\"stock_summaries.xlsx\")\n",
    "df_summ['종목코드'] = df_summ['종목코드'].apply(lambda x : str(x).zfill(6))\n",
    "df_summ"
   ]
  },
  {
   "cell_type": "code",
   "execution_count": 36,
   "id": "cd5ddc30-9f38-4955-86b2-3edeb0e204fa",
   "metadata": {},
   "outputs": [],
   "source": [
    "df_html = df_summ.loc[~df_summ['html'].isna(), :]\n",
    "output_dir = 'outputs'\n",
    "\n",
    "if not os.path.isdir(output_dir):\n",
    "    os.mkdir(output_dir)\n",
    "    \n",
    "for each in df_html.itertuples():\n",
    "    html = each.html\n",
    "    ouptut = ''.join(['<meta charset=\"utf-8\">\\n', html])\n",
    "    \n",
    "    with open(f'{output_dir}/{each.종목코드}_{each.회사명}.html', 'w', encoding='UTF-8') as hf:\n",
    "        hf.write(ouptut)    "
   ]
  }
 ],
 "metadata": {
  "interpreter": {
   "hash": "1c55b556ac51485e732a890ad90cd6645ce1cc39d925e658e03cc3acbd484518"
  },
  "kernelspec": {
   "display_name": "study",
   "language": "python",
   "name": "python3"
  },
  "language_info": {
   "codemirror_mode": {
    "name": "ipython",
    "version": 3
   },
   "file_extension": ".py",
   "mimetype": "text/x-python",
   "name": "python",
   "nbconvert_exporter": "python",
   "pygments_lexer": "ipython3",
   "version": "3.10.2"
  }
 },
 "nbformat": 4,
 "nbformat_minor": 5
}
